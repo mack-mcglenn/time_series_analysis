{
 "cells": [
  {
   "cell_type": "code",
   "execution_count": 2,
   "id": "fd62e1cc-1624-46cd-b10c-02cdeb255d88",
   "metadata": {},
   "outputs": [],
   "source": [
    "import pandas as pd\n",
    "import numpy as np\n",
    "import matplotlib as plt\n",
    "import seaborn as sb\n",
    "import statsmodels.api as sm\n",
    "import env\n",
    "import warnings\n",
    "warnings.filterwarnings('ignore')\n",
    "import os"
   ]
  },
  {
   "cell_type": "code",
   "execution_count": 5,
   "id": "fb3600c5-34d0-4df0-a0e2-13459797c542",
   "metadata": {},
   "outputs": [],
   "source": [
    "# Store data\n",
    "\n",
    "def connect(db):\n",
    "    \n",
    "    \"\"\"This function will pull the information from my env file (username, password, host,\n",
    "    database) to connect to Codeup's MySQL database\"\"\"\n",
    "    \n",
    "    return f'mysql+pymysql://{env.user}:{env.password}@{env.host}/{db}'\n",
    "\n",
    "def get_store_data():\n",
    "    q = \"\"\" Select * from items\n",
    "            join sales using(item_id)\n",
    "            join stores using(store_id)\"\"\"\n",
    "    \n",
    "    df = pd.read_sql(q, connect('tsa_item_demand'))\n",
    "    \n",
    "    return df\n",
    "\n",
    "def wrangle_store_data():\n",
    "    file= 'tsa_item_demand.csv'\n",
    "    \n",
    "    if os.path.isfile(file):\n",
    "        df= pd.read_csv(file)\n",
    "    else:\n",
    "        df= get_store_data()\n",
    "        \n",
    "    return df"
   ]
  }
 ],
 "metadata": {
  "kernelspec": {
   "display_name": "Python 3 (ipykernel)",
   "language": "python",
   "name": "python3"
  },
  "language_info": {
   "codemirror_mode": {
    "name": "ipython",
    "version": 3
   },
   "file_extension": ".py",
   "mimetype": "text/x-python",
   "name": "python",
   "nbconvert_exporter": "python",
   "pygments_lexer": "ipython3",
   "version": "3.9.13"
  }
 },
 "nbformat": 4,
 "nbformat_minor": 5
}
